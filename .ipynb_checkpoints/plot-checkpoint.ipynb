{
 "cells": [
  {
   "cell_type": "code",
   "execution_count": 1,
   "metadata": {
    "ExecuteTime": {
     "end_time": "2020-06-16T14:54:34.587328Z",
     "start_time": "2020-06-16T14:54:33.382043Z"
    }
   },
   "outputs": [],
   "source": [
    "import plotly_express as px"
   ]
  },
  {
   "cell_type": "code",
   "execution_count": 2,
   "metadata": {
    "ExecuteTime": {
     "end_time": "2020-06-16T14:54:41.107787Z",
     "start_time": "2020-06-16T14:54:41.103616Z"
    }
   },
   "outputs": [],
   "source": [
    "import json"
   ]
  },
  {
   "cell_type": "code",
   "execution_count": 3,
   "metadata": {
    "ExecuteTime": {
     "end_time": "2020-06-16T14:55:28.966559Z",
     "start_time": "2020-06-16T14:55:28.958081Z"
    }
   },
   "outputs": [],
   "source": [
    "rmr = json.load(open(\"rmr.json\"))\n",
    "pamr = json.load(open(\"Pamr.jsonamr.json\"))\n",
    "up = json.load(open(\"Up.json\"))\n",
    "Eg = json.load(open(\"Eg.json\"))"
   ]
  },
  {
   "cell_type": "code",
   "execution_count": null,
   "metadata": {},
   "outputs": [],
   "source": []
  }
 ],
 "metadata": {
  "kernelspec": {
   "display_name": "Python 3",
   "language": "python",
   "name": "python3"
  },
  "language_info": {
   "codemirror_mode": {
    "name": "ipython",
    "version": 3
   },
   "file_extension": ".py",
   "mimetype": "text/x-python",
   "name": "python",
   "nbconvert_exporter": "python",
   "pygments_lexer": "ipython3",
   "version": "3.7.7"
  },
  "pycharm": {
   "stem_cell": {
    "cell_type": "raw",
    "metadata": {
     "collapsed": false
    },
    "source": [
     "import plotly_express as px"
    ]
   }
  }
 },
 "nbformat": 4,
 "nbformat_minor": 1
}
